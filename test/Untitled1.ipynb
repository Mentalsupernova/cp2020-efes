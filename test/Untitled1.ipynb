{
 "cells": [
  {
   "cell_type": "code",
   "execution_count": 1,
   "metadata": {},
   "outputs": [],
   "source": [
    "import pandas as pd\n",
    "from sklearn.ensemble import RandomForestClassifier, RandomForestRegressor\n",
    "import matplotlib.pyplot as plt\n",
    "import numpy as np\n",
    "from sklearn import datasets, ensemble\n",
    "from sklearn.inspection import permutation_importance\n",
    "from sklearn.metrics import mean_squared_error\n",
    "from sklearn.model_selection import train_test_split"
   ]
  },
  {
   "cell_type": "code",
   "execution_count": 2,
   "metadata": {},
   "outputs": [],
   "source": [
    "\n",
    "from keras.callbacks import ModelCheckpoint\n",
    "from keras.models import Sequential\n",
    "from keras.layers import Dense, Activation, Flatten\n",
    "from sklearn.model_selection import train_test_split\n",
    "from sklearn.ensemble import RandomForestRegressor\n",
    "from sklearn.metrics import mean_absolute_error \n",
    "from matplotlib import pyplot as plt\n",
    "import seaborn as sb\n",
    "import matplotlib.pyplot as plt\n",
    "import pandas as pd\n",
    "import numpy as np\n",
    "import warnings \n",
    "warnings.filterwarnings('ignore')\n",
    "warnings.filterwarnings('ignore', category=DeprecationWarning)\n",
    "#from xgboost import XGBRegressor"
   ]
  },
  {
   "cell_type": "code",
   "execution_count": 3,
   "metadata": {},
   "outputs": [],
   "source": [
    "dataset = pd.read_csv('train.csv',encoding=\"utf8\")\n"
   ]
  },
  {
   "cell_type": "code",
   "execution_count": 4,
   "metadata": {},
   "outputs": [
    {
     "data": {
      "text/plain": [
       "False"
      ]
     },
     "execution_count": 4,
     "metadata": {},
     "output_type": "execute_result"
    }
   ],
   "source": [
    "dataset = dataset.fillna(1,axis=1)\n",
    "cols = list(dataset.columns)\n",
    "dataset[cols] = dataset[cols].apply(pd.to_numeric,errors='coerce')\n",
    "#dataset = dataset.apply()\n",
    "\n",
    "#dataset = pd.to_numeric(dataset)\n",
    "dataset = dataset.astype(int)\n",
    "dataset['Энергопотребление (анализируемый показатель), млн. кВт в час']\n",
    "len(list(dataset.columns))\n",
    "dataset.isnull().values.any()"
   ]
  },
  {
   "cell_type": "code",
   "execution_count": 5,
   "metadata": {},
   "outputs": [],
   "source": [
    "Y = dataset.pop('Энергопотребление (анализируемый показатель), млн. кВт в час')\n",
    "X = dataset\n",
    "params = {'n_estimators': 500,\n",
    "          'max_depth': 4,\n",
    "          'min_samples_split': 5,\n",
    "    \n",
    "          'loss': 'ls'}"
   ]
  },
  {
   "cell_type": "code",
   "execution_count": 6,
   "metadata": {},
   "outputs": [],
   "source": [
    "X_train, X_test, y_train, y_test = train_test_split(X, Y,test_size=0.1, random_state=13) \n"
   ]
  },
  {
   "cell_type": "code",
   "execution_count": 7,
   "metadata": {},
   "outputs": [
    {
     "name": "stdout",
     "output_type": "stream",
     "text": [
      "[2796 2796 2796 2796 2796 2796 2796 2796 2796 2796 2796 2796 2796 2796\n",
      " 2796 2796 2796 2796 2796 2796 2796 2796 2796 2796 2796 2796 2796 2796\n",
      " 2796 2796 2796 2796 2796 2796 2796 2796 2796 2796 2796 2796 2796 2796\n",
      " 2796 2796 2796 2796 2796 2796 2796 2796 2796 2796 2796 2796 2796 2796\n",
      " 2796 2796 2796 2796 2796 2796 2796 2796 2796 2796 2796 2796 2796 2796\n",
      " 2796 2796 2796 2796 2796 2796 2796 2796 2796 2796 2796 2796 2796 2796\n",
      " 2796 2796 2796 2796 2796 2796 2796 2796 2796 2796 2796 2796 2796 2796\n",
      " 2796 2796 2796 2796 2796 2796 2796 2796 2796 2796 2796 2796 2796 2796\n",
      " 2796 2796 2796 2796 2796 2796 2796 2796 2796 2796 2796 2796 2796 2796\n",
      " 2796 2796 2796 2796 2796 2796 2796 2796 2796 2796 2796 2796 2796 2796\n",
      " 2796 2796 2796 2796 2796 2796 2796 2796 2796 2796 2796 2796 2796 2796\n",
      " 2796 2796 2796 2796 2796 2796 2796 2796 2796 2796 2796 2796 2796 2796\n",
      " 2796 2796 2796 2796 2796 2796 2796 2796 2796 2796 2796 2796 2796 2796\n",
      " 2796 2796 2796 2796 2796 2796 2796 2796 2796 2796 2796 2796 2796 2796\n",
      " 2796 2796 2796 2796 2796 2796 2796 2796 2796 2796 2796 2796 2796 2796\n",
      " 2796 2796 2796 2796 2796 2796 2796 2796 2796 2796 2796 2796 2796 2796\n",
      " 2796 2796 2796 2796 2796 2796 2796 2796 2796 2796 2796 2796 2796 2796\n",
      " 2796 2796 2796 2796 2796 2796 2796 2796 2796 2796 2796 2796 2796 2796\n",
      " 2796 2796 2796 2796 2796 2796 2796 2796 2796 2796 2796 2796 2796 2796\n",
      " 2796 2796 2796 2796 2796 2796 2796 2796 2796 2796 2796 2796 2796 2796\n",
      " 2796 2796 2796 2796 2796 2796 2796 2796 2796 2796 2796 2796 2796 2796\n",
      " 2796 2796 2796 2796 2796 2796 2796 2796 2796 2796 2796 2796 2796 2796\n",
      " 2796 2796 2796 2796 2796 2796 2796 2796 2796 2796 2796 2796 2796 2796\n",
      " 2796 2796 2796 2796 2796 2796 2796 2796 2796 2796 2796 2796 2796 2796\n",
      " 2796 2796 2796 2796 2796 2796 2796 2796 2796 2796 2796 2796 2796 2796\n",
      " 2796 2796 2796 2796 2796 2796 2796 2796 2796 2796 2796 2796 2796 2796\n",
      " 2796 2796]\n"
     ]
    }
   ],
   "source": [
    "clasifier = RandomForestClassifier(n_estimators=1000,max_depth=4, random_state=0)\n",
    "clasifier.fit(X_train,y_train)\n",
    "y_pred=clasifier.predict(X_test)\n",
    "X_test\n",
    "print(y_pred)"
   ]
  },
  {
   "cell_type": "code",
   "execution_count": 8,
   "metadata": {},
   "outputs": [
    {
     "name": "stdout",
     "output_type": "stream",
     "text": [
      "[2796. 2796. 2796. 2796. 2796. 2796. 2796. 2796. 2796. 2796. 2796. 2796.\n",
      " 2796. 2796. 2796. 2796. 2796. 2796. 2796. 2796. 2796. 2796. 2796. 2796.\n",
      " 2796. 2796. 2796. 2796. 2796. 2796. 2796. 2796. 2796. 2796. 2796. 2796.\n",
      " 2796. 2796. 2796. 2796. 2796. 2796. 2796. 2796. 2796. 2796. 2796. 2796.\n",
      " 2796. 2796. 2796. 2796. 2796. 2796. 2796. 2796. 2796. 2796. 2796. 2796.\n",
      " 2796. 2796. 2796. 2796. 2796. 2796. 2796. 2796. 2796. 2796. 2796. 2796.\n",
      " 2796. 2796. 2796. 2796. 2796. 2796. 2796. 2796. 2796. 2796. 2796. 2796.\n",
      " 2796. 2796. 2796. 2796. 2796. 2796. 2796. 2796. 2796. 2796. 2796. 2796.\n",
      " 2796. 2796. 2796. 2796. 2796. 2796. 2796. 2796. 2796. 2796. 2796. 2796.\n",
      " 2796. 2796. 2796. 2796. 2796. 2796. 2796. 2796. 2796. 2796. 2796. 2796.\n",
      " 2796. 2796. 2796. 2796. 2796. 2796. 2796. 2796. 2796. 2796. 2796. 2796.\n",
      " 2796. 2796. 2796. 2796. 2796. 2796. 2796. 2796. 2796. 2796. 2796. 2796.\n",
      " 2796. 2796. 2796. 2796. 2796. 2796. 2796. 2796. 2796. 2796. 2796. 2796.\n",
      " 2796. 2796. 2796. 2796. 2796. 2796. 2796. 2796. 2796. 2796. 2796. 2796.\n",
      " 2796. 2796. 2796. 2796. 2796. 2796. 2796. 2796. 2796. 2796. 2796. 2796.\n",
      " 2796. 2796. 2796. 2796. 2796. 2796. 2796. 2796. 2796. 2796. 2796. 2796.\n",
      " 2796. 2796. 2796. 2796. 2796. 2796. 2796. 2796. 2796. 2796. 2796. 2796.\n",
      " 2796. 2796. 2796. 2796. 2796. 2796. 2796. 2796. 2796. 2796. 2796. 2796.\n",
      " 2796. 2796. 2796. 2796. 2796. 2796. 2796. 2796. 2796. 2796. 2796. 2796.\n",
      " 2796. 2796. 2796. 2796. 2796. 2796. 2796. 2796. 2796. 2796. 2796. 2796.\n",
      " 2796. 2796. 2796. 2796. 2796. 2796. 2796. 2796. 2796. 2796. 2796. 2796.\n",
      " 2796. 2796. 2796. 2796. 2796. 2796. 2796. 2796. 2796. 2796. 2796. 2796.\n",
      " 2796. 2796. 2796. 2796. 2796. 2796. 2796. 2796. 2796. 2796. 2796. 2796.\n",
      " 2796. 2796. 2796. 2796. 2796. 2796. 2796. 2796. 2796. 2796. 2796. 2796.\n",
      " 2796. 2796. 2796. 2796. 2796. 2796. 2796. 2796. 2796. 2796. 2796. 2796.\n",
      " 2796. 2796. 2796. 2796. 2796. 2796. 2796. 2796. 2796. 2796. 2796. 2796.\n",
      " 2796. 2796. 2796. 2796. 2796. 2796. 2796. 2796. 2796. 2796. 2796. 2796.\n",
      " 2796. 2796. 2796. 2796. 2796. 2796. 2796. 2796. 2796. 2796. 2796. 2796.\n",
      " 2796. 2796. 2796. 2796. 2796. 2796. 2796. 2796. 2796. 2796. 2796. 2796.\n",
      " 2796. 2796. 2796. 2796. 2796. 2796. 2796. 2796. 2796. 2796. 2796. 2796.\n",
      " 2796. 2796. 2796. 2796. 2796. 2796.]\n"
     ]
    }
   ],
   "source": [
    "reg = ensemble.GradientBoostingRegressor(**params)\n",
    "reg.fit(X_train, y_train)\n",
    "y_pred=reg.predict(X_test) \n",
    "print(y_pred)"
   ]
  },
  {
   "cell_type": "code",
   "execution_count": 9,
   "metadata": {},
   "outputs": [],
   "source": [
    "train_X, val_X, train_y, val_y = train_test_split(X, Y, test_size = 0.25, random_state = 14)"
   ]
  },
  {
   "cell_type": "code",
   "execution_count": 10,
   "metadata": {},
   "outputs": [
    {
     "name": "stdout",
     "output_type": "stream",
     "text": [
      "Random forest validation MAE =  0.0\n"
     ]
    }
   ],
   "source": [
    "\n",
    "model = RandomForestRegressor()\n",
    "model.fit(train_X,train_y)\n",
    "\n",
    "# Get the mean absolute error on the validation data\n",
    "predicted_prices = model.predict(val_X)\n",
    "MAE = mean_absolute_error(val_y , predicted_prices)\n",
    "print('Random forest validation MAE = ', MAE)"
   ]
  },
  {
   "cell_type": "code",
   "execution_count": null,
   "metadata": {},
   "outputs": [],
   "source": []
  }
 ],
 "metadata": {
  "kernelspec": {
   "display_name": "Python 3",
   "language": "python",
   "name": "python3"
  },
  "language_info": {
   "codemirror_mode": {
    "name": "ipython",
    "version": 3
   },
   "file_extension": ".py",
   "mimetype": "text/x-python",
   "name": "python",
   "nbconvert_exporter": "python",
   "pygments_lexer": "ipython3",
   "version": "3.7.7"
  }
 },
 "nbformat": 4,
 "nbformat_minor": 4
}
