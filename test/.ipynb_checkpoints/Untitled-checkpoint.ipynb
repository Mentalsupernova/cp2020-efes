{
 "cells": [
  {
   "cell_type": "code",
   "execution_count": 130,
   "metadata": {},
   "outputs": [
    {
     "name": "stdout",
     "output_type": "stream",
     "text": [
      "The tensorboard extension is already loaded. To reload it, use:\n",
      "  %reload_ext tensorboard\n",
      "2.3.1\n"
     ]
    }
   ],
   "source": [
    "%load_ext tensorboard\n",
    "import pathlib\n",
    "\n",
    "import matplotlib.pyplot as plt\n",
    "import pandas as pd\n",
    "import seaborn as sns\n",
    "\n",
    "import tensorflow as tf\n",
    "import datetime\n",
    "from tensorflow import keras\n",
    "from tensorflow.keras import layers\n",
    "\n",
    "print(tf.__version__)"
   ]
  },
  {
   "cell_type": "code",
   "execution_count": 51,
   "metadata": {},
   "outputs": [],
   "source": [
    "prefix = \"/mnt/data/s3/cp2020/\"\n",
    "#dataset = pd.read_excel(\"Data set много букв — копия (2) (1).xlsx\")\n",
    "#dataset.to_csv('train.csv',encoding=\"utf8\")\n",
    "dataset = pd.read_csv('train.csv',encoding=\"utf8\")\n"
   ]
  },
  {
   "cell_type": "code",
   "execution_count": 52,
   "metadata": {},
   "outputs": [
    {
     "data": {
      "text/plain": [
       "False"
      ]
     },
     "execution_count": 52,
     "metadata": {},
     "output_type": "execute_result"
    }
   ],
   "source": [
    "dataset = dataset.fillna(1,axis=1)\n",
    "cols = list(dataset.columns)\n",
    "dataset[cols] = dataset[cols].apply(pd.to_numeric,errors='coerce')\n",
    "#dataset = dataset.apply()\n",
    "\n",
    "#dataset = pd.to_numeric(dataset)\n",
    "dataset = dataset.astype(int)\n",
    "dataset['Энергопотребление (анализируемый показатель), млн. кВт в час']\n",
    "len(list(dataset.columns))\n",
    "dataset.isnull().values.any()"
   ]
  },
  {
   "cell_type": "code",
   "execution_count": 53,
   "metadata": {},
   "outputs": [],
   "source": [
    "train_dataset = dataset.sample(frac=0.7,random_state=0)\n",
    "test_dataset = dataset.drop(train_dataset.index)\n",
    "#list(train_dataset.columns)\n",
    "#train_dataset.to_csv(\"test.csv\")"
   ]
  },
  {
   "cell_type": "code",
   "execution_count": 54,
   "metadata": {},
   "outputs": [],
   "source": [
    "train_labels = train_dataset.pop('Энергопотребление (анализируемый показатель), млн. кВт в час')\n",
    "test_labels = test_dataset.pop('Энергопотребление (анализируемый показатель), млн. кВт в час')"
   ]
  },
  {
   "cell_type": "code",
   "execution_count": 55,
   "metadata": {},
   "outputs": [
    {
     "data": {
      "text/html": [
       "<div>\n",
       "<style scoped>\n",
       "    .dataframe tbody tr th:only-of-type {\n",
       "        vertical-align: middle;\n",
       "    }\n",
       "\n",
       "    .dataframe tbody tr th {\n",
       "        vertical-align: top;\n",
       "    }\n",
       "\n",
       "    .dataframe thead th {\n",
       "        text-align: right;\n",
       "    }\n",
       "</style>\n",
       "<table border=\"1\" class=\"dataframe\">\n",
       "  <thead>\n",
       "    <tr style=\"text-align: right;\">\n",
       "      <th></th>\n",
       "      <th>count</th>\n",
       "      <th>mean</th>\n",
       "      <th>std</th>\n",
       "      <th>min</th>\n",
       "      <th>25%</th>\n",
       "      <th>50%</th>\n",
       "      <th>75%</th>\n",
       "      <th>max</th>\n",
       "    </tr>\n",
       "  </thead>\n",
       "  <tbody>\n",
       "    <tr>\n",
       "      <th>Unnamed: 0</th>\n",
       "      <td>2557.0</td>\n",
       "      <td>1815.473211</td>\n",
       "      <td>1062.912804</td>\n",
       "      <td>1.0</td>\n",
       "      <td>904.0</td>\n",
       "      <td>1802.0</td>\n",
       "      <td>2734.0</td>\n",
       "      <td>3652.0</td>\n",
       "    </tr>\n",
       "    <tr>\n",
       "      <th>ВРП, рублей</th>\n",
       "      <td>2557.0</td>\n",
       "      <td>68570.544779</td>\n",
       "      <td>29095.786823</td>\n",
       "      <td>0.0</td>\n",
       "      <td>57815.0</td>\n",
       "      <td>68280.0</td>\n",
       "      <td>89231.0</td>\n",
       "      <td>108882.0</td>\n",
       "    </tr>\n",
       "    <tr>\n",
       "      <th>Белгородская область</th>\n",
       "      <td>2557.0</td>\n",
       "      <td>1004.126711</td>\n",
       "      <td>411.706409</td>\n",
       "      <td>0.0</td>\n",
       "      <td>906.0</td>\n",
       "      <td>1010.0</td>\n",
       "      <td>1287.0</td>\n",
       "      <td>1532.0</td>\n",
       "    </tr>\n",
       "    <tr>\n",
       "      <th>Брянская область</th>\n",
       "      <td>2557.0</td>\n",
       "      <td>477.988659</td>\n",
       "      <td>207.714778</td>\n",
       "      <td>0.0</td>\n",
       "      <td>375.0</td>\n",
       "      <td>481.0</td>\n",
       "      <td>629.0</td>\n",
       "      <td>747.0</td>\n",
       "    </tr>\n",
       "    <tr>\n",
       "      <th>Владимирская область</th>\n",
       "      <td>2557.0</td>\n",
       "      <td>584.037153</td>\n",
       "      <td>241.398632</td>\n",
       "      <td>0.0</td>\n",
       "      <td>498.0</td>\n",
       "      <td>592.0</td>\n",
       "      <td>774.0</td>\n",
       "      <td>879.0</td>\n",
       "    </tr>\n",
       "    <tr>\n",
       "      <th>...</th>\n",
       "      <td>...</td>\n",
       "      <td>...</td>\n",
       "      <td>...</td>\n",
       "      <td>...</td>\n",
       "      <td>...</td>\n",
       "      <td>...</td>\n",
       "      <td>...</td>\n",
       "      <td>...</td>\n",
       "    </tr>\n",
       "    <tr>\n",
       "      <th>Амурская область.9</th>\n",
       "      <td>2557.0</td>\n",
       "      <td>19.000000</td>\n",
       "      <td>0.000000</td>\n",
       "      <td>19.0</td>\n",
       "      <td>19.0</td>\n",
       "      <td>19.0</td>\n",
       "      <td>19.0</td>\n",
       "      <td>19.0</td>\n",
       "    </tr>\n",
       "    <tr>\n",
       "      <th>Магаданская область.8</th>\n",
       "      <td>2557.0</td>\n",
       "      <td>5.000000</td>\n",
       "      <td>0.000000</td>\n",
       "      <td>5.0</td>\n",
       "      <td>5.0</td>\n",
       "      <td>5.0</td>\n",
       "      <td>5.0</td>\n",
       "      <td>5.0</td>\n",
       "    </tr>\n",
       "    <tr>\n",
       "      <th>Сахалинская область.8</th>\n",
       "      <td>2557.0</td>\n",
       "      <td>10.000000</td>\n",
       "      <td>0.000000</td>\n",
       "      <td>10.0</td>\n",
       "      <td>10.0</td>\n",
       "      <td>10.0</td>\n",
       "      <td>10.0</td>\n",
       "      <td>10.0</td>\n",
       "    </tr>\n",
       "    <tr>\n",
       "      <th>Еврейская автономная область.7</th>\n",
       "      <td>2557.0</td>\n",
       "      <td>3.000000</td>\n",
       "      <td>0.000000</td>\n",
       "      <td>3.0</td>\n",
       "      <td>3.0</td>\n",
       "      <td>3.0</td>\n",
       "      <td>3.0</td>\n",
       "      <td>3.0</td>\n",
       "    </tr>\n",
       "    <tr>\n",
       "      <th>Чукотский автономный округ.7</th>\n",
       "      <td>2557.0</td>\n",
       "      <td>1.000000</td>\n",
       "      <td>0.000000</td>\n",
       "      <td>1.0</td>\n",
       "      <td>1.0</td>\n",
       "      <td>1.0</td>\n",
       "      <td>1.0</td>\n",
       "      <td>1.0</td>\n",
       "    </tr>\n",
       "  </tbody>\n",
       "</table>\n",
       "<p>830 rows × 8 columns</p>\n",
       "</div>"
      ],
      "text/plain": [
       "                                 count          mean           std   min  \\\n",
       "Unnamed: 0                      2557.0   1815.473211   1062.912804   1.0   \n",
       "ВРП, рублей                     2557.0  68570.544779  29095.786823   0.0   \n",
       "Белгородская область            2557.0   1004.126711    411.706409   0.0   \n",
       "Брянская область                2557.0    477.988659    207.714778   0.0   \n",
       "Владимирская область            2557.0    584.037153    241.398632   0.0   \n",
       "...                                ...           ...           ...   ...   \n",
       "Амурская область.9              2557.0     19.000000      0.000000  19.0   \n",
       "Магаданская область.8           2557.0      5.000000      0.000000   5.0   \n",
       "Сахалинская область.8           2557.0     10.000000      0.000000  10.0   \n",
       "Еврейская автономная область.7  2557.0      3.000000      0.000000   3.0   \n",
       "Чукотский автономный округ.7    2557.0      1.000000      0.000000   1.0   \n",
       "\n",
       "                                    25%      50%      75%       max  \n",
       "Unnamed: 0                        904.0   1802.0   2734.0    3652.0  \n",
       "ВРП, рублей                     57815.0  68280.0  89231.0  108882.0  \n",
       "Белгородская область              906.0   1010.0   1287.0    1532.0  \n",
       "Брянская область                  375.0    481.0    629.0     747.0  \n",
       "Владимирская область              498.0    592.0    774.0     879.0  \n",
       "...                                 ...      ...      ...       ...  \n",
       "Амурская область.9                 19.0     19.0     19.0      19.0  \n",
       "Магаданская область.8               5.0      5.0      5.0       5.0  \n",
       "Сахалинская область.8              10.0     10.0     10.0      10.0  \n",
       "Еврейская автономная область.7      3.0      3.0      3.0       3.0  \n",
       "Чукотский автономный округ.7        1.0      1.0      1.0       1.0  \n",
       "\n",
       "[830 rows x 8 columns]"
      ]
     },
     "execution_count": 55,
     "metadata": {},
     "output_type": "execute_result"
    }
   ],
   "source": [
    "#list(train_dataset.columns)\n",
    "\n",
    "train_stats = train_dataset.describe()\n",
    "#train_stats.pop('Энергопотребление (анализируемый показатель), млн. кВт в час')\n",
    "train_stats = train_stats.transpose()\n",
    "train_stats"
   ]
  },
  {
   "cell_type": "code",
   "execution_count": 56,
   "metadata": {},
   "outputs": [],
   "source": [
    "#def norm(x):\n",
    "#  return (x - train_stats['mean']) / train_stats['std']\n",
    "#normed_train_data = norm(train_dataset)\n",
    "#normed_test_data = norm(test_dataset)\n",
    "#normed_train_data"
   ]
  },
  {
   "cell_type": "code",
   "execution_count": 133,
   "metadata": {},
   "outputs": [],
   "source": [
    "def build_model():\n",
    "  model = keras.Sequential([\n",
    "    keras.layers.Flatten(input_shape=[len(train_dataset.keys())]),\n",
    "    layers.Dense(50,activation='relu'),\n",
    "    layers.Dense(100,activation='softmax'),\n",
    "    layers.Dense(150,activation='softmax'),\n",
    "    layers.Dense(1)\n",
    "  ])\n",
    "  \n",
    "    \n",
    "  optimizer = tf.keras.optimizers.RMSprop(0.1)\n",
    "\n",
    "  model.compile(loss='mse',\n",
    "                optimizer=optimizer,\n",
    "                metrics=['mae', 'mse'],)\n",
    "  return model\n"
   ]
  },
  {
   "cell_type": "code",
   "execution_count": 134,
   "metadata": {},
   "outputs": [],
   "source": [
    "model = build_model()"
   ]
  },
  {
   "cell_type": "code",
   "execution_count": 135,
   "metadata": {},
   "outputs": [
    {
     "name": "stdout",
     "output_type": "stream",
     "text": [
      "Model: \"sequential_14\"\n",
      "_________________________________________________________________\n",
      "Layer (type)                 Output Shape              Param #   \n",
      "=================================================================\n",
      "flatten_14 (Flatten)         (None, 830)               0         \n",
      "_________________________________________________________________\n",
      "dense_46 (Dense)             (None, 50)                41550     \n",
      "_________________________________________________________________\n",
      "dense_47 (Dense)             (None, 100)               5100      \n",
      "_________________________________________________________________\n",
      "dense_48 (Dense)             (None, 150)               15150     \n",
      "_________________________________________________________________\n",
      "dense_49 (Dense)             (None, 1)                 151       \n",
      "=================================================================\n",
      "Total params: 61,951\n",
      "Trainable params: 61,951\n",
      "Non-trainable params: 0\n",
      "_________________________________________________________________\n"
     ]
    }
   ],
   "source": [
    "model.summary()\n"
   ]
  },
  {
   "cell_type": "code",
   "execution_count": 136,
   "metadata": {},
   "outputs": [
    {
     "data": {
      "text/plain": [
       "array([[0.00346345],\n",
       "       [0.00346345],\n",
       "       [0.00346345],\n",
       "       [0.00346345],\n",
       "       [0.00346345],\n",
       "       [0.00346345],\n",
       "       [0.00346345],\n",
       "       [0.00346345],\n",
       "       [0.00346345],\n",
       "       [0.00346345]], dtype=float32)"
      ]
     },
     "execution_count": 136,
     "metadata": {},
     "output_type": "execute_result"
    }
   ],
   "source": [
    "example_batch = train_dataset[:10]\n",
    "#example_batch\n",
    "example_result = model.predict(example_batch)\n",
    "example_result"
   ]
  },
  {
   "cell_type": "code",
   "execution_count": 118,
   "metadata": {},
   "outputs": [
    {
     "ename": "NameError",
     "evalue": "name 'train_data' is not defined",
     "output_type": "error",
     "traceback": [
      "\u001b[1;31m---------------------------------------------------------------------------\u001b[0m",
      "\u001b[1;31mNameError\u001b[0m                                 Traceback (most recent call last)",
      "\u001b[1;32m<ipython-input-118-314012c36d42>\u001b[0m in \u001b[0;36m<module>\u001b[1;34m\u001b[0m\n\u001b[0;32m      7\u001b[0m \u001b[1;33m\u001b[0m\u001b[0m\n\u001b[0;32m      8\u001b[0m history = model.fit(\n\u001b[1;32m----> 9\u001b[1;33m   \u001b[0mtrain_data\u001b[0m\u001b[1;33m,\u001b[0m \u001b[0mtrain_labels\u001b[0m\u001b[1;33m,\u001b[0m\u001b[1;33m\u001b[0m\u001b[1;33m\u001b[0m\u001b[0m\n\u001b[0m\u001b[0;32m     10\u001b[0m   \u001b[0mepochs\u001b[0m\u001b[1;33m=\u001b[0m\u001b[0mEPOCHS\u001b[0m\u001b[1;33m,\u001b[0m \u001b[0mvalidation_split\u001b[0m \u001b[1;33m=\u001b[0m \u001b[1;36m0.2\u001b[0m\u001b[1;33m,\u001b[0m \u001b[0mverbose\u001b[0m\u001b[1;33m=\u001b[0m\u001b[1;36m0\u001b[0m\u001b[1;33m,\u001b[0m\u001b[1;33m\u001b[0m\u001b[1;33m\u001b[0m\u001b[0m\n\u001b[0;32m     11\u001b[0m   callbacks=[PrintDot()])\n",
      "\u001b[1;31mNameError\u001b[0m: name 'train_data' is not defined"
     ]
    }
   ],
   "source": [
    "class PrintDot(keras.callbacks.Callback):\n",
    "  def on_epoch_end(self, epoch, logs):\n",
    "    if epoch % 100 == 0: print('')\n",
    "    print('.', end='')\n",
    "\n",
    "EPOCHS = 100\n",
    "\n",
    "history = model.fit(\n",
    "  train_data, train_labels,\n",
    "  epochs=EPOCHS, validation_split = 0.2, verbose=0,\n",
    "  callbacks=[PrintDot()])"
   ]
  },
  {
   "cell_type": "code",
   "execution_count": 138,
   "metadata": {},
   "outputs": [
    {
     "name": "stdout",
     "output_type": "stream",
     "text": [
      "WARNING:tensorflow:From C:\\Users\\menta\\AppData\\Local\\Packages\\PythonSoftwareFoundation.Python.3.8_qbz5n2kfra8p0\\LocalCache\\local-packages\\Python38\\site-packages\\tensorflow\\python\\ops\\summary_ops_v2.py:1277: stop (from tensorflow.python.eager.profiler) is deprecated and will be removed after 2020-07-01.\n",
      "Instructions for updating:\n",
      "use `tf.profiler.experimental.stop` instead.\n",
      "WARNING:tensorflow:Callbacks method `on_train_batch_end` is slow compared to the batch time (batch time: 0.0020s vs `on_train_batch_end` time: 0.0310s). Check your callbacks.\n"
     ]
    }
   ],
   "source": [
    "early_stop = keras.callbacks.EarlyStopping(monitor='val_loss', patience=10)\n",
    "log_dir =  datetime.datetime.now().strftime(\"%Y%m%d-%H%M%S\")\n",
    "tensorboard_callback = tf.keras.callbacks.TensorBoard(log_dir=log_dir, histogram_freq=1)\n",
    "history = model.fit(train_dataset, train_labels, epochs=EPOCHS,\n",
    "                    validation_split = 0.2, verbose=0, callbacks=[tensorboard_callback])\n"
   ]
  },
  {
   "cell_type": "code",
   "execution_count": 139,
   "metadata": {},
   "outputs": [
    {
     "data": {
      "text/plain": [
       "ERROR: Could not find `tensorboard`. Please ensure that your PATH\n",
       "contains an executable `tensorboard` program, or explicitly specify\n",
       "the path to a TensorBoard binary by setting the `TENSORBOARD_BINARY`\n",
       "environment variable."
      ]
     },
     "metadata": {},
     "output_type": "display_data"
    }
   ],
   "source": [
    "%tensorboard --logdir "
   ]
  },
  {
   "cell_type": "code",
   "execution_count": 120,
   "metadata": {},
   "outputs": [
    {
     "data": {
      "text/html": [
       "<div>\n",
       "<style scoped>\n",
       "    .dataframe tbody tr th:only-of-type {\n",
       "        vertical-align: middle;\n",
       "    }\n",
       "\n",
       "    .dataframe tbody tr th {\n",
       "        vertical-align: top;\n",
       "    }\n",
       "\n",
       "    .dataframe thead th {\n",
       "        text-align: right;\n",
       "    }\n",
       "</style>\n",
       "<table border=\"1\" class=\"dataframe\">\n",
       "  <thead>\n",
       "    <tr style=\"text-align: right;\">\n",
       "      <th></th>\n",
       "      <th>loss</th>\n",
       "      <th>mae</th>\n",
       "      <th>mse</th>\n",
       "      <th>val_loss</th>\n",
       "      <th>val_mae</th>\n",
       "      <th>val_mse</th>\n",
       "      <th>epoch</th>\n",
       "    </tr>\n",
       "  </thead>\n",
       "  <tbody>\n",
       "    <tr>\n",
       "      <th>95</th>\n",
       "      <td>2466085.00</td>\n",
       "      <td>1570.372681</td>\n",
       "      <td>2466085.00</td>\n",
       "      <td>2445686.75</td>\n",
       "      <td>1563.869141</td>\n",
       "      <td>2445686.75</td>\n",
       "      <td>95</td>\n",
       "    </tr>\n",
       "    <tr>\n",
       "      <th>96</th>\n",
       "      <td>2426081.25</td>\n",
       "      <td>1557.583496</td>\n",
       "      <td>2426081.25</td>\n",
       "      <td>2405849.50</td>\n",
       "      <td>1551.080078</td>\n",
       "      <td>2405849.50</td>\n",
       "      <td>96</td>\n",
       "    </tr>\n",
       "    <tr>\n",
       "      <th>97</th>\n",
       "      <td>2386413.50</td>\n",
       "      <td>1544.797852</td>\n",
       "      <td>2386413.50</td>\n",
       "      <td>2366360.50</td>\n",
       "      <td>1538.298218</td>\n",
       "      <td>2366360.50</td>\n",
       "      <td>97</td>\n",
       "    </tr>\n",
       "    <tr>\n",
       "      <th>98</th>\n",
       "      <td>2347088.00</td>\n",
       "      <td>1532.016479</td>\n",
       "      <td>2347088.00</td>\n",
       "      <td>2327201.75</td>\n",
       "      <td>1525.516968</td>\n",
       "      <td>2327201.75</td>\n",
       "      <td>98</td>\n",
       "    </tr>\n",
       "    <tr>\n",
       "      <th>99</th>\n",
       "      <td>2308089.75</td>\n",
       "      <td>1519.235107</td>\n",
       "      <td>2308089.75</td>\n",
       "      <td>2288368.50</td>\n",
       "      <td>1512.735718</td>\n",
       "      <td>2288368.50</td>\n",
       "      <td>99</td>\n",
       "    </tr>\n",
       "  </tbody>\n",
       "</table>\n",
       "</div>"
      ],
      "text/plain": [
       "          loss          mae         mse    val_loss      val_mae     val_mse  \\\n",
       "95  2466085.00  1570.372681  2466085.00  2445686.75  1563.869141  2445686.75   \n",
       "96  2426081.25  1557.583496  2426081.25  2405849.50  1551.080078  2405849.50   \n",
       "97  2386413.50  1544.797852  2386413.50  2366360.50  1538.298218  2366360.50   \n",
       "98  2347088.00  1532.016479  2347088.00  2327201.75  1525.516968  2327201.75   \n",
       "99  2308089.75  1519.235107  2308089.75  2288368.50  1512.735718  2288368.50   \n",
       "\n",
       "    epoch  \n",
       "95     95  \n",
       "96     96  \n",
       "97     97  \n",
       "98     98  \n",
       "99     99  "
      ]
     },
     "execution_count": 120,
     "metadata": {},
     "output_type": "execute_result"
    }
   ],
   "source": [
    "hist = pd.DataFrame(history.history)\n",
    "hist['epoch'] = history.epoch\n",
    "hist.tail()\n"
   ]
  },
  {
   "cell_type": "code",
   "execution_count": 121,
   "metadata": {},
   "outputs": [
    {
     "name": "stdout",
     "output_type": "stream",
     "text": [
      "35/35 - 0s - loss: nan - mae: nan - mse: nan\n",
      "nan\n"
     ]
    }
   ],
   "source": [
    "loss, mae, mse = model.evaluate(normed_test_data, test_labels, verbose=2)\n",
    "print(mae)"
   ]
  },
  {
   "cell_type": "code",
   "execution_count": 122,
   "metadata": {},
   "outputs": [
    {
     "data": {
      "text/plain": [
       "array([1283.2639, 1283.2644, 1283.2644, ..., 1283.2644, 1283.2644,\n",
       "       1283.2644], dtype=float32)"
      ]
     },
     "execution_count": 122,
     "metadata": {},
     "output_type": "execute_result"
    }
   ],
   "source": [
    "test_predictions = model.predict(test_dataset).flatten()\n",
    "\n",
    "test_predictions"
   ]
  },
  {
   "cell_type": "code",
   "execution_count": null,
   "metadata": {},
   "outputs": [],
   "source": []
  }
 ],
 "metadata": {
  "kernelspec": {
   "display_name": "Python 3",
   "language": "python",
   "name": "python3"
  },
  "language_info": {
   "codemirror_mode": {
    "name": "ipython",
    "version": 3
   },
   "file_extension": ".py",
   "mimetype": "text/x-python",
   "name": "python",
   "nbconvert_exporter": "python",
   "pygments_lexer": "ipython3",
   "version": "3.8.6"
  }
 },
 "nbformat": 4,
 "nbformat_minor": 4
}
