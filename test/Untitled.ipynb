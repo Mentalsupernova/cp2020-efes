{
 "cells": [
  {
   "cell_type": "code",
   "execution_count": 1,
   "metadata": {},
   "outputs": [
    {
     "name": "stdout",
     "output_type": "stream",
     "text": [
      "2.3.1\n"
     ]
    }
   ],
   "source": [
    "%load_ext tensorboard\n",
    "import pathlib\n",
    "\n",
    "import matplotlib.pyplot as plt\n",
    "import pandas as pd\n",
    "import seaborn as sns\n",
    "\n",
    "import tensorflow as tf\n",
    "import datetime\n",
    "from tensorflow import keras\n",
    "from tensorflow.keras import layers\n",
    "from sklearn.ensemble import RandomForestRegressor\n",
    "from sklearn.metrics import mean_absolute_error \n",
    "from IPython.display import clear_output\n",
    "\n",
    "\n",
    "print(tf.__version__)"
   ]
  },
  {
   "cell_type": "code",
   "execution_count": 2,
   "metadata": {},
   "outputs": [],
   "source": [
    "\n",
    "dataset = pd.read_csv('train.csv',encoding=\"utf8\")\n",
    "\n"
   ]
  },
  {
   "cell_type": "code",
   "execution_count": 3,
   "metadata": {},
   "outputs": [
    {
     "data": {
      "text/plain": [
       "False"
      ]
     },
     "execution_count": 3,
     "metadata": {},
     "output_type": "execute_result"
    }
   ],
   "source": [
    "dataset = dataset.fillna(1,axis=1)\n",
    "cols = list(dataset.columns)\n",
    "dataset[cols] = dataset[cols].apply(pd.to_numeric,errors='coerce')\n",
    "#dataset = dataset.apply()\n",
    "\n",
    "#dataset = pd.to_numeric(dataset)\n",
    "dataset = dataset.astype(int)\n",
    "dataset['Энергопотребление (анализируемый показатель), млн. кВт в час']\n",
    "len(list(dataset.columns))\n",
    "dataset.isnull().values.any()"
   ]
  },
  {
   "cell_type": "code",
   "execution_count": 4,
   "metadata": {},
   "outputs": [],
   "source": [
    "train_dataset = dataset.sample(frac=0.7,random_state=0)\n",
    "test_dataset = dataset.drop(train_dataset.index)\n",
    "#list(train_dataset.columns)\n",
    "#train_dataset.to_csv(\"test.csv\")"
   ]
  },
  {
   "cell_type": "code",
   "execution_count": 5,
   "metadata": {},
   "outputs": [
    {
     "data": {
      "text/plain": [
       "1895    2796\n",
       "572     2796\n",
       "1368    2796\n",
       "3175    2796\n",
       "1732    2796\n",
       "        ... \n",
       "79      2796\n",
       "662     2796\n",
       "1439    2796\n",
       "3557    2796\n",
       "919     2796\n",
       "Name: Энергопотребление (анализируемый показатель), млн. кВт в час, Length: 2557, dtype: int64"
      ]
     },
     "execution_count": 5,
     "metadata": {},
     "output_type": "execute_result"
    }
   ],
   "source": [
    "train_labels = train_dataset.pop('Энергопотребление (анализируемый показатель), млн. кВт в час')\n",
    "test_labels = test_dataset.pop('Энергопотребление (анализируемый показатель), млн. кВт в час')\n",
    "train_labels"
   ]
  },
  {
   "cell_type": "code",
   "execution_count": 6,
   "metadata": {},
   "outputs": [
    {
     "data": {
      "text/html": [
       "<div>\n",
       "<style scoped>\n",
       "    .dataframe tbody tr th:only-of-type {\n",
       "        vertical-align: middle;\n",
       "    }\n",
       "\n",
       "    .dataframe tbody tr th {\n",
       "        vertical-align: top;\n",
       "    }\n",
       "\n",
       "    .dataframe thead th {\n",
       "        text-align: right;\n",
       "    }\n",
       "</style>\n",
       "<table border=\"1\" class=\"dataframe\">\n",
       "  <thead>\n",
       "    <tr style=\"text-align: right;\">\n",
       "      <th></th>\n",
       "      <th>count</th>\n",
       "      <th>mean</th>\n",
       "      <th>std</th>\n",
       "      <th>min</th>\n",
       "      <th>25%</th>\n",
       "      <th>50%</th>\n",
       "      <th>75%</th>\n",
       "      <th>max</th>\n",
       "    </tr>\n",
       "  </thead>\n",
       "  <tbody>\n",
       "    <tr>\n",
       "      <th>Unnamed: 0</th>\n",
       "      <td>2557.0</td>\n",
       "      <td>1815.473211</td>\n",
       "      <td>1062.912804</td>\n",
       "      <td>1.0</td>\n",
       "      <td>904.0</td>\n",
       "      <td>1802.0</td>\n",
       "      <td>2734.0</td>\n",
       "      <td>3652.0</td>\n",
       "    </tr>\n",
       "    <tr>\n",
       "      <th>ВРП, рублей</th>\n",
       "      <td>2557.0</td>\n",
       "      <td>68570.544779</td>\n",
       "      <td>29095.786823</td>\n",
       "      <td>0.0</td>\n",
       "      <td>57815.0</td>\n",
       "      <td>68280.0</td>\n",
       "      <td>89231.0</td>\n",
       "      <td>108882.0</td>\n",
       "    </tr>\n",
       "    <tr>\n",
       "      <th>Белгородская область</th>\n",
       "      <td>2557.0</td>\n",
       "      <td>1004.126711</td>\n",
       "      <td>411.706409</td>\n",
       "      <td>0.0</td>\n",
       "      <td>906.0</td>\n",
       "      <td>1010.0</td>\n",
       "      <td>1287.0</td>\n",
       "      <td>1532.0</td>\n",
       "    </tr>\n",
       "    <tr>\n",
       "      <th>Брянская область</th>\n",
       "      <td>2557.0</td>\n",
       "      <td>477.988659</td>\n",
       "      <td>207.714778</td>\n",
       "      <td>0.0</td>\n",
       "      <td>375.0</td>\n",
       "      <td>481.0</td>\n",
       "      <td>629.0</td>\n",
       "      <td>747.0</td>\n",
       "    </tr>\n",
       "    <tr>\n",
       "      <th>Владимирская область</th>\n",
       "      <td>2557.0</td>\n",
       "      <td>584.037153</td>\n",
       "      <td>241.398632</td>\n",
       "      <td>0.0</td>\n",
       "      <td>498.0</td>\n",
       "      <td>592.0</td>\n",
       "      <td>774.0</td>\n",
       "      <td>879.0</td>\n",
       "    </tr>\n",
       "    <tr>\n",
       "      <th>...</th>\n",
       "      <td>...</td>\n",
       "      <td>...</td>\n",
       "      <td>...</td>\n",
       "      <td>...</td>\n",
       "      <td>...</td>\n",
       "      <td>...</td>\n",
       "      <td>...</td>\n",
       "      <td>...</td>\n",
       "    </tr>\n",
       "    <tr>\n",
       "      <th>Амурская область.9</th>\n",
       "      <td>2557.0</td>\n",
       "      <td>19.000000</td>\n",
       "      <td>0.000000</td>\n",
       "      <td>19.0</td>\n",
       "      <td>19.0</td>\n",
       "      <td>19.0</td>\n",
       "      <td>19.0</td>\n",
       "      <td>19.0</td>\n",
       "    </tr>\n",
       "    <tr>\n",
       "      <th>Магаданская область.8</th>\n",
       "      <td>2557.0</td>\n",
       "      <td>5.000000</td>\n",
       "      <td>0.000000</td>\n",
       "      <td>5.0</td>\n",
       "      <td>5.0</td>\n",
       "      <td>5.0</td>\n",
       "      <td>5.0</td>\n",
       "      <td>5.0</td>\n",
       "    </tr>\n",
       "    <tr>\n",
       "      <th>Сахалинская область.8</th>\n",
       "      <td>2557.0</td>\n",
       "      <td>10.000000</td>\n",
       "      <td>0.000000</td>\n",
       "      <td>10.0</td>\n",
       "      <td>10.0</td>\n",
       "      <td>10.0</td>\n",
       "      <td>10.0</td>\n",
       "      <td>10.0</td>\n",
       "    </tr>\n",
       "    <tr>\n",
       "      <th>Еврейская автономная область.7</th>\n",
       "      <td>2557.0</td>\n",
       "      <td>3.000000</td>\n",
       "      <td>0.000000</td>\n",
       "      <td>3.0</td>\n",
       "      <td>3.0</td>\n",
       "      <td>3.0</td>\n",
       "      <td>3.0</td>\n",
       "      <td>3.0</td>\n",
       "    </tr>\n",
       "    <tr>\n",
       "      <th>Чукотский автономный округ.7</th>\n",
       "      <td>2557.0</td>\n",
       "      <td>1.000000</td>\n",
       "      <td>0.000000</td>\n",
       "      <td>1.0</td>\n",
       "      <td>1.0</td>\n",
       "      <td>1.0</td>\n",
       "      <td>1.0</td>\n",
       "      <td>1.0</td>\n",
       "    </tr>\n",
       "  </tbody>\n",
       "</table>\n",
       "<p>830 rows × 8 columns</p>\n",
       "</div>"
      ],
      "text/plain": [
       "                                 count          mean           std   min  \\\n",
       "Unnamed: 0                      2557.0   1815.473211   1062.912804   1.0   \n",
       "ВРП, рублей                     2557.0  68570.544779  29095.786823   0.0   \n",
       "Белгородская область            2557.0   1004.126711    411.706409   0.0   \n",
       "Брянская область                2557.0    477.988659    207.714778   0.0   \n",
       "Владимирская область            2557.0    584.037153    241.398632   0.0   \n",
       "...                                ...           ...           ...   ...   \n",
       "Амурская область.9              2557.0     19.000000      0.000000  19.0   \n",
       "Магаданская область.8           2557.0      5.000000      0.000000   5.0   \n",
       "Сахалинская область.8           2557.0     10.000000      0.000000  10.0   \n",
       "Еврейская автономная область.7  2557.0      3.000000      0.000000   3.0   \n",
       "Чукотский автономный округ.7    2557.0      1.000000      0.000000   1.0   \n",
       "\n",
       "                                    25%      50%      75%       max  \n",
       "Unnamed: 0                        904.0   1802.0   2734.0    3652.0  \n",
       "ВРП, рублей                     57815.0  68280.0  89231.0  108882.0  \n",
       "Белгородская область              906.0   1010.0   1287.0    1532.0  \n",
       "Брянская область                  375.0    481.0    629.0     747.0  \n",
       "Владимирская область              498.0    592.0    774.0     879.0  \n",
       "...                                 ...      ...      ...       ...  \n",
       "Амурская область.9                 19.0     19.0     19.0      19.0  \n",
       "Магаданская область.8               5.0      5.0      5.0       5.0  \n",
       "Сахалинская область.8              10.0     10.0     10.0      10.0  \n",
       "Еврейская автономная область.7      3.0      3.0      3.0       3.0  \n",
       "Чукотский автономный округ.7        1.0      1.0      1.0       1.0  \n",
       "\n",
       "[830 rows x 8 columns]"
      ]
     },
     "execution_count": 6,
     "metadata": {},
     "output_type": "execute_result"
    }
   ],
   "source": [
    "#list(train_dataset.columns)\n",
    "\n",
    "train_stats = train_dataset.describe()\n",
    "#train_stats.pop('Энергопотребление (анализируемый показатель), млн. кВт в час')\n",
    "train_stats = train_stats.transpose()\n",
    "train_stats"
   ]
  },
  {
   "cell_type": "code",
   "execution_count": 7,
   "metadata": {},
   "outputs": [],
   "source": [
    "#def norm(x):\n",
    "#  return (x - train_stats['mean']) / train_stats['std']\n",
    "#normed_train_data = norm(train_dataset)\n",
    "#normed_test_data = norm(test_dataset)\n",
    "#normed_train_data"
   ]
  },
  {
   "cell_type": "code",
   "execution_count": 8,
   "metadata": {},
   "outputs": [],
   "source": [
    "def build_model():\n",
    "  model = keras.Sequential([\n",
    "    layers.Dense(128,kernel_initializer='normal',input_shape=[len(train_dataset.keys())]),\n",
    "    layers.Dense(256,activation='relu',kernel_initializer='normal'),\n",
    "    layers.Dense(256,activation='relu',kernel_initializer='normal'),\n",
    "    layers.Dense(256,activation='relu',kernel_initializer='normal'),\n",
    "    layers.Dense(1,kernel_initializer='normal',activation='linear')\n",
    "  ])\n",
    "  \n",
    "    \n",
    "  optimizer = tf.keras.optimizers.RMSprop(0.1)\n",
    "\n",
    "  model.compile(loss='mean_absolute_error', optimizer='adam', metrics=['mean_absolute_error'])\n",
    "  return model\n"
   ]
  },
  {
   "cell_type": "code",
   "execution_count": 9,
   "metadata": {},
   "outputs": [],
   "source": [
    "model = build_model()"
   ]
  },
  {
   "cell_type": "code",
   "execution_count": 10,
   "metadata": {},
   "outputs": [
    {
     "name": "stdout",
     "output_type": "stream",
     "text": [
      "Model: \"sequential\"\n",
      "_________________________________________________________________\n",
      "Layer (type)                 Output Shape              Param #   \n",
      "=================================================================\n",
      "dense (Dense)                (None, 128)               106368    \n",
      "_________________________________________________________________\n",
      "dense_1 (Dense)              (None, 256)               33024     \n",
      "_________________________________________________________________\n",
      "dense_2 (Dense)              (None, 256)               65792     \n",
      "_________________________________________________________________\n",
      "dense_3 (Dense)              (None, 256)               65792     \n",
      "_________________________________________________________________\n",
      "dense_4 (Dense)              (None, 1)                 257       \n",
      "=================================================================\n",
      "Total params: 271,233\n",
      "Trainable params: 271,233\n",
      "Non-trainable params: 0\n",
      "_________________________________________________________________\n"
     ]
    }
   ],
   "source": [
    "model.summary()\n"
   ]
  },
  {
   "cell_type": "code",
   "execution_count": 11,
   "metadata": {},
   "outputs": [
    {
     "data": {
      "text/plain": [
       "array([[-331.61993],\n",
       "       [-237.3082 ],\n",
       "       [-269.51337],\n",
       "       [-347.62335],\n",
       "       [-297.3246 ],\n",
       "       [-202.40991],\n",
       "       [-347.65106],\n",
       "       [-237.00539],\n",
       "       [-298.19376],\n",
       "       [-347.6545 ]], dtype=float32)"
      ]
     },
     "execution_count": 11,
     "metadata": {},
     "output_type": "execute_result"
    }
   ],
   "source": [
    "example_batch = train_dataset[:10]\n",
    "#example_batch\n",
    "example_result = model.predict(example_batch)\n",
    "example_result"
   ]
  },
  {
   "cell_type": "code",
   "execution_count": 12,
   "metadata": {},
   "outputs": [],
   "source": [
    "class PrintDot(keras.callbacks.Callback):\n",
    "  def on_epoch_end(self, epoch, logs):\n",
    "        clear_output(wait=True)\n",
    "        print(str(epoch)+\",\"+'loss' + str(logs))\n",
    "\n",
    "EPOCHS = 500"
   ]
  },
  {
   "cell_type": "code",
   "execution_count": null,
   "metadata": {},
   "outputs": [
    {
     "name": "stdout",
     "output_type": "stream",
     "text": [
      "311,loss{'loss': 31.916627883911133, 'mean_absolute_error': 31.916627883911133, 'val_loss': 12.350423812866211, 'val_mean_absolute_error': 12.350423812866211}\n"
     ]
    }
   ],
   "source": [
    "early_stop = keras.callbacks.EarlyStopping(monitor='val_loss', patience=10)\n",
    "log_dir =  datetime.datetime.now().strftime(\"%Y%m%d-%H%M%S\")\n",
    "tensorboard_callback = tf.keras.callbacks.TensorBoard(log_dir=log_dir, histogram_freq=1)\n",
    "history = model.fit(train_dataset, train_labels, epochs=EPOCHS,\n",
    "                    validation_split = 0.2, verbose=0, callbacks=[tensorboard_callback,PrintDot()])\n"
   ]
  },
  {
   "cell_type": "code",
   "execution_count": 81,
   "metadata": {},
   "outputs": [
    {
     "data": {
      "text/plain": [
       "Reusing TensorBoard on port 6007 (pid 11385), started 1:15:26 ago. (Use '!kill 11385' to kill it.)"
      ]
     },
     "metadata": {},
     "output_type": "display_data"
    },
    {
     "data": {
      "text/html": [
       "\n",
       "      <iframe id=\"tensorboard-frame-a4cf678909619bda\" width=\"100%\" height=\"800\" frameborder=\"0\">\n",
       "      </iframe>\n",
       "      <script>\n",
       "        (function() {\n",
       "          const frame = document.getElementById(\"tensorboard-frame-a4cf678909619bda\");\n",
       "          const url = new URL(\"/\", window.location);\n",
       "          const port = 6007;\n",
       "          if (port) {\n",
       "            url.port = port;\n",
       "          }\n",
       "          frame.src = url;\n",
       "        })();\n",
       "      </script>\n",
       "    "
      ],
      "text/plain": [
       "<IPython.core.display.HTML object>"
      ]
     },
     "metadata": {},
     "output_type": "display_data"
    }
   ],
   "source": [
    "#%tensorboard --logdir ."
   ]
  },
  {
   "cell_type": "code",
   "execution_count": 27,
   "metadata": {},
   "outputs": [
    {
     "data": {
      "text/html": [
       "<div>\n",
       "<style scoped>\n",
       "    .dataframe tbody tr th:only-of-type {\n",
       "        vertical-align: middle;\n",
       "    }\n",
       "\n",
       "    .dataframe tbody tr th {\n",
       "        vertical-align: top;\n",
       "    }\n",
       "\n",
       "    .dataframe thead th {\n",
       "        text-align: right;\n",
       "    }\n",
       "</style>\n",
       "<table border=\"1\" class=\"dataframe\">\n",
       "  <thead>\n",
       "    <tr style=\"text-align: right;\">\n",
       "      <th></th>\n",
       "      <th>loss</th>\n",
       "      <th>mean_absolute_error</th>\n",
       "      <th>val_loss</th>\n",
       "      <th>val_mean_absolute_error</th>\n",
       "      <th>epoch</th>\n",
       "    </tr>\n",
       "  </thead>\n",
       "  <tbody>\n",
       "    <tr>\n",
       "      <th>495</th>\n",
       "      <td>10.867300</td>\n",
       "      <td>10.867300</td>\n",
       "      <td>12.524193</td>\n",
       "      <td>12.524193</td>\n",
       "      <td>495</td>\n",
       "    </tr>\n",
       "    <tr>\n",
       "      <th>496</th>\n",
       "      <td>10.813380</td>\n",
       "      <td>10.813380</td>\n",
       "      <td>18.905186</td>\n",
       "      <td>18.905186</td>\n",
       "      <td>496</td>\n",
       "    </tr>\n",
       "    <tr>\n",
       "      <th>497</th>\n",
       "      <td>14.126811</td>\n",
       "      <td>14.126811</td>\n",
       "      <td>21.281818</td>\n",
       "      <td>21.281818</td>\n",
       "      <td>497</td>\n",
       "    </tr>\n",
       "    <tr>\n",
       "      <th>498</th>\n",
       "      <td>14.061516</td>\n",
       "      <td>14.061516</td>\n",
       "      <td>10.294369</td>\n",
       "      <td>10.294369</td>\n",
       "      <td>498</td>\n",
       "    </tr>\n",
       "    <tr>\n",
       "      <th>499</th>\n",
       "      <td>16.300026</td>\n",
       "      <td>16.300026</td>\n",
       "      <td>26.337448</td>\n",
       "      <td>26.337448</td>\n",
       "      <td>499</td>\n",
       "    </tr>\n",
       "  </tbody>\n",
       "</table>\n",
       "</div>"
      ],
      "text/plain": [
       "          loss  mean_absolute_error   val_loss  val_mean_absolute_error  epoch\n",
       "495  10.867300            10.867300  12.524193                12.524193    495\n",
       "496  10.813380            10.813380  18.905186                18.905186    496\n",
       "497  14.126811            14.126811  21.281818                21.281818    497\n",
       "498  14.061516            14.061516  10.294369                10.294369    498\n",
       "499  16.300026            16.300026  26.337448                26.337448    499"
      ]
     },
     "execution_count": 27,
     "metadata": {},
     "output_type": "execute_result"
    }
   ],
   "source": [
    "hist = pd.DataFrame(history.history)\n",
    "hist['epoch'] = history.epoch\n",
    "hist.tail()\n"
   ]
  },
  {
   "cell_type": "code",
   "execution_count": 28,
   "metadata": {},
   "outputs": [
    {
     "data": {
      "text/plain": [
       "1895    2796\n",
       "572     2796\n",
       "1368    2796\n",
       "3175    2796\n",
       "1732    2796\n",
       "        ... \n",
       "79      2796\n",
       "662     2796\n",
       "1439    2796\n",
       "3557    2796\n",
       "919     2796\n",
       "Name: Энергопотребление (анализируемый показатель), млн. кВт в час, Length: 2557, dtype: int64"
      ]
     },
     "execution_count": 28,
     "metadata": {},
     "output_type": "execute_result"
    }
   ],
   "source": [
    "train_labels"
   ]
  },
  {
   "cell_type": "code",
   "execution_count": 29,
   "metadata": {},
   "outputs": [
    {
     "data": {
      "text/plain": [
       "array([ 919.1826, 2809.834 , 2809.764 , ..., 2824.088 , 2824.0764,\n",
       "       2824.064 ], dtype=float32)"
      ]
     },
     "execution_count": 29,
     "metadata": {},
     "output_type": "execute_result"
    }
   ],
   "source": [
    "test_predictions = model.predict(test_dataset).flatten()\n",
    "\n",
    "test_predictions\n",
    "#mean_absolute_error(train_labels, test_predictions)"
   ]
  },
  {
   "cell_type": "code",
   "execution_count": null,
   "metadata": {},
   "outputs": [],
   "source": []
  }
 ],
 "metadata": {
  "kernelspec": {
   "display_name": "Python 3",
   "language": "python",
   "name": "python3"
  },
  "language_info": {
   "codemirror_mode": {
    "name": "ipython",
    "version": 3
   },
   "file_extension": ".py",
   "mimetype": "text/x-python",
   "name": "python",
   "nbconvert_exporter": "python",
   "pygments_lexer": "ipython3",
   "version": "3.7.7"
  }
 },
 "nbformat": 4,
 "nbformat_minor": 4
}
